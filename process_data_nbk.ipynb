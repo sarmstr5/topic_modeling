{
 "cells": [
  {
   "cell_type": "code",
   "execution_count": 2,
   "metadata": {
    "collapsed": true
   },
   "outputs": [],
   "source": [
    "import numpy as np\n",
    "import pandas as pd\n",
    "import glob, os, sys\n",
    "from scipy.sparse import coo_matrix, csc_matrix, csr_matrix"
   ]
  },
  {
   "cell_type": "code",
   "execution_count": 3,
   "metadata": {},
   "outputs": [],
   "source": [
    "# the docword.*.txt files are formatted as:\n",
    "# D\n",
    "# W\n",
    "# NNZ\n",
    "# docID wordID count\n",
    "os.chdir(\"CS674/HW4_topic_modeling/data\")"
   ]
  },
  {
   "cell_type": "code",
   "execution_count": 4,
   "metadata": {},
   "outputs": [
    {
     "data": {
      "text/plain": [
       "['docword.enron.txt',\n 'docword.enron.txt_csc.npz',\n 'docword.enron.txt_csr.npz',\n 'docword.kos.txt',\n 'docword.kos.txt_csc.npz',\n 'docword.kos.txt_csr.npz',\n 'docword.nips.txt',\n 'docword.nips.txt_csc.npz',\n 'docword.nips.txt_csr.npz',\n 'docword.nytimes.txt',\n 'docword.pubmed.txt_csc.npz',\n 'docword.pubmed.txt_csr.npz',\n 'docword.pubmed.zip',\n 'mnist_all.mat',\n 'processed',\n 'raw',\n 'readme.txt',\n 'topic_output',\n 'trunc_pubmed.txt',\n 'vocab.enron.txt',\n 'vocab.kos.txt',\n 'vocab.nips.txt',\n 'vocab.nytimes.txt',\n 'vocab.pubmed.txt']"
      ]
     },
     "execution_count": 4,
     "metadata": {},
     "output_type": "execute_result"
    }
   ],
   "source": [
    "glob.glob('*')"
   ]
  },
  {
   "cell_type": "code",
   "execution_count": 4,
   "metadata": {},
   "outputs": [],
   "source": [
    "def store_files_to_disk(verbose: object = True) -> object:\n",
    "    filenames = glob.glob(\"docword.*.txt\")\n",
    "    for fn in filenames:\n",
    "        arr = np.loadtxt(fn, dtype=int,skiprows=3)\n",
    "        coo = coo_matrix((arr[:,2], (arr[:,0], arr[:,1])))\n",
    "        csc = csc_matrix(coo)\n",
    "        csr = csr_matrix(coo)\n",
    "        np.savez(fn+'_csc', data=csc.data, indices=csc.indices, indptr=csc.indptr, shape=csc.shape)\n",
    "        np.savez(fn+'_csr', data=csr.data, indices=csr.indices, indptr=csr.indptr, shape=csr.shape)"
   ]
  },
  {
   "cell_type": "code",
   "execution_count": 5,
   "metadata": {},
   "outputs": [],
   "source": [
    "def create_pubmed_coo(verbose=True):\n",
    "    i = 0\n",
    "    data, rows, cols = [], [], []\n",
    "    # got from the readme file, can also be gotten from the first two lines of the file\n",
    "    M = 300000+1\n",
    "    N = 102660+1\n",
    "    number_of_elements = 0\n",
    "    coo = coo_matrix((M,N), dtype=int)\n",
    "    file = \"docword.nytimes.txt\"\n",
    "    # file = \"trunc_pubmed.txt\"\n",
    "    with open(file, 'r') as csv:\n",
    "        param_num = 0\n",
    "        for row in csv:\n",
    "            # print(i)\n",
    "            if i<2:\n",
    "                print(row)\n",
    "            elif i==2:\n",
    "                print(row)\n",
    "                number_of_elements = int(row)\n",
    "            elif i>2:\n",
    "                # docID wordID count\n",
    "                row_list = row.strip().split()\n",
    "                rows.append(int(row_list[0]))\n",
    "                cols.append(int(row_list[1]))\n",
    "                data.append(int(row_list[2]))\n",
    "                \n",
    "                # keep memory use low\n",
    "                if i % 10000000 == 0:\n",
    "                    try:\n",
    "                        print('i is : {}'.format(i))\n",
    "                        print('lengths:\\t\\tcoo: {}\\trows: {}\\tcols: {}\\tdata: {}'.format(coo.shape, len(rows), len(cols), len(data)))\n",
    "                        print('Memory print 1:\\tcoo: {}\\trows: {}\\tcols: {}\\tdata: {}'.format(sys.getsizeof(coo), sys.getsizeof(rows), sys.getsizeof(cols), sys.getsizeof(data)))\n",
    "                        coo = coo + coo_matrix((data, (rows, cols)), shape=(M,N), dtype=int)\n",
    "                        data, rows, cols = [], [], []\n",
    "                        print('Memory print 2:\\tcoo: {}\\trows: {}\\tcols: {}\\tdata: {}'.format(sys.getsizeof(coo), sys.getsizeof(rows), sys.getsizeof(cols), sys.getsizeof(data)))\n",
    "                        print('\\n------------------')\n",
    "                    except ValueError:\n",
    "                        print('raised an error!!!\\nvalues:\\tcoo: {}\\trows: {}\\tcols: {}\\tdata: {}'.format(coo.shape, max(rows), max(cols), max(data)))\n",
    "                        raise\n",
    "            i += 1\n",
    "            \n",
    "        coo = coo + coo_matrix((data, (rows, cols)), shape=(M,N), dtype=int)\n",
    "        print(coo)\n",
    "        print(number_of_elements)\n",
    "    return coo"
   ]
  },
  {
   "cell_type": "code",
   "execution_count": 6,
   "metadata": {},
   "outputs": [
    {
     "name": "stdout",
     "output_type": "stream",
     "text": [
      "300000\n\n102660\n\n69679427\n\n"
     ]
    },
    {
     "name": "stdout",
     "output_type": "stream",
     "text": [
      "i is : 10000000\n"
     ]
    },
    {
     "name": "stdout",
     "output_type": "stream",
     "text": [
      "lengths:\t\tcoo: (300001, 102661)\trows: 9999998\tcols: 9999998\tdata: 9999998\nMemory print 1:\tcoo: 56\trows: 81528056\tcols: 81528056\tdata: 81528056\nMemory print 2:\tcoo: 56\trows: 64\tcols: 64\tdata: 64\n\n------------------\n"
     ]
    },
    {
     "name": "stdout",
     "output_type": "stream",
     "text": [
      "i is : 20000000\nlengths:\t\tcoo: (300001, 102661)\trows: 10000000\tcols: 10000000\tdata: 10000000\nMemory print 1:\tcoo: 56\trows: 81528056\tcols: 81528056\tdata: 81528056\n"
     ]
    },
    {
     "name": "stdout",
     "output_type": "stream",
     "text": [
      "Memory print 2:\tcoo: 56\trows: 64\tcols: 64\tdata: 64\n\n------------------\n"
     ]
    },
    {
     "name": "stdout",
     "output_type": "stream",
     "text": [
      "i is : 30000000\nlengths:\t\tcoo: (300001, 102661)\trows: 10000000\tcols: 10000000\tdata: 10000000\nMemory print 1:\tcoo: 56\trows: 81528056\tcols: 81528056\tdata: 81528056\n"
     ]
    },
    {
     "name": "stdout",
     "output_type": "stream",
     "text": [
      "Memory print 2:\tcoo: 56\trows: 64\tcols: 64\tdata: 64\n\n------------------\n"
     ]
    },
    {
     "name": "stdout",
     "output_type": "stream",
     "text": [
      "i is : 40000000\nlengths:\t\tcoo: (300001, 102661)\trows: 10000000\tcols: 10000000\tdata: 10000000\nMemory print 1:\tcoo: 56\trows: 81528056\tcols: 81528056\tdata: 81528056\n"
     ]
    },
    {
     "name": "stdout",
     "output_type": "stream",
     "text": [
      "Memory print 2:\tcoo: 56\trows: 64\tcols: 64\tdata: 64\n\n------------------\n"
     ]
    },
    {
     "name": "stdout",
     "output_type": "stream",
     "text": [
      "i is : 50000000\nlengths:\t\tcoo: (300001, 102661)\trows: 10000000\tcols: 10000000\tdata: 10000000\nMemory print 1:\tcoo: 56\trows: 81528056\tcols: 81528056\tdata: 81528056\n"
     ]
    },
    {
     "name": "stdout",
     "output_type": "stream",
     "text": [
      "Memory print 2:\tcoo: 56\trows: 64\tcols: 64\tdata: 64\n\n------------------\n"
     ]
    },
    {
     "name": "stdout",
     "output_type": "stream",
     "text": [
      "i is : 60000000\nlengths:\t\tcoo: (300001, 102661)\trows: 10000000\tcols: 10000000\tdata: 10000000\nMemory print 1:\tcoo: 56\trows: 81528056\tcols: 81528056\tdata: 81528056\n"
     ]
    },
    {
     "name": "stdout",
     "output_type": "stream",
     "text": [
      "Memory print 2:\tcoo: 56\trows: 64\tcols: 64\tdata: 64\n\n------------------\n"
     ]
    },
    {
     "name": "stdout",
     "output_type": "stream",
     "text": [
      "  (1, 413)\t1\n  (1, 534)\t1\n  (1, 2340)\t1\n  (1, 2806)\t1\n  (1, 3059)\t1\n  (1, 3070)\t1\n  (1, 3294)\t1\n  (1, 3356)\t1\n  (1, 4056)\t1\n  (1, 4930)\t1\n  (1, 5255)\t1\n  (1, 6888)\t1\n  (1, 6946)\t1\n  (1, 6974)\t2\n  (1, 7296)\t1\n  (1, 7402)\t1\n  (1, 7405)\t1\n  (1, 7409)\t1\n  (1, 7544)\t1\n  (1, 7790)\t1\n  (1, 9085)\t1\n  (1, 9385)\t2\n  (1, 9959)\t1\n  (1, 9983)\t1\n  (1, 10126)\t1\n  :\t:\n  (300000, 34120)\t1\n  (300000, 34784)\t6\n  (300000, 34965)\t1\n  (300000, 35535)\t1\n  (300000, 35765)\t1\n  (300000, 35980)\t1\n  (300000, 36952)\t1\n  (300000, 37993)\t1\n  (300000, 39137)\t1\n  (300000, 39144)\t1\n  (300000, 39349)\t3\n  (300000, 40340)\t1\n  (300000, 40446)\t1\n  (300000, 40488)\t2\n  (300000, 43220)\t1\n  (300000, 43982)\t1\n  (300000, 44045)\t2\n  (300000, 52291)\t1\n  (300000, 56534)\t1\n  (300000, 58176)\t3\n  (300000, 59155)\t3\n  (300000, 67026)\t3\n  (300000, 69877)\t4\n  (300000, 80938)\t3\n  (300000, 82350)\t1\n69679427\n"
     ]
    }
   ],
   "source": [
    "# store_files_to_disk()\n",
    "coo = create_pubmed_coo()\n",
    "# coo"
   ]
  },
  {
   "cell_type": "code",
   "execution_count": 9,
   "metadata": {},
   "outputs": [
    {
     "data": {
      "text/plain": [
       "<300001x102661 sparse matrix of type '<class 'numpy.int32'>'\n\twith 69679427 stored elements in Compressed Sparse Column format>"
      ]
     },
     "execution_count": 8,
     "metadata": {},
     "output_type": "execute_result"
    }
   ],
   "source": [
    "fn = \"docword.nytimes.txt\"\n",
    "csc = csc_matrix(coo)\n",
    "np.savez(fn+'_csc', data=csc.data, indices=csc.indices, indptr=csc.indptr, shape=csc.shape)\n",
    "csc"
   ]
  },
  {
   "cell_type": "code",
   "execution_count": 10,
   "metadata": {},
   "outputs": [
    {
     "data": {
      "text/plain": [
       "<300001x102661 sparse matrix of type '<class 'numpy.int32'>'\n\twith 69679427 stored elements in Compressed Sparse Row format>"
      ]
     },
     "execution_count": 10,
     "metadata": {},
     "output_type": "execute_result"
    }
   ],
   "source": [
    "# fn = \"docword.pubmed.txt\"\n",
    "csr = csr_matrix(coo)\n",
    "np.savez(fn+'_csr', data=csr.data, indices=csr.indices, indptr=csr.indptr, shape=csr.shape)\n",
    "csr"
   ]
  },
  {
   "cell_type": "code",
   "execution_count": null,
   "metadata": {},
   "outputs": [],
   "source": [
    "fns = glob.glob('xa*')\n",
    "# arr = np.loadtxt(fn, dtype=int,skiprows=3)\n",
    "# coo = coo_matrix((arr[:,2], (arr[:,0], arr[:,1])))"
   ]
  },
  {
   "cell_type": "code",
   "execution_count": null,
   "metadata": {},
   "outputs": [],
   "source": [
    "import pickle\n",
    "with open(' pubmed_rows', 'wb'):\n",
    "    pickle.dump(rows)\n",
    "with open(' pubmed_cols', 'wb'):\n",
    "    pickle.dump(rows)\n",
    "with open(' pubmed_data', 'wb'):\n",
    "    pickle.dump(rows)"
   ]
  }
 ],
 "metadata": {
  "kernelspec": {
   "display_name": "Python 2",
   "language": "python",
   "name": "python2"
  },
  "language_info": {
   "codemirror_mode": {
    "name": "ipython",
    "version": 2.0
   },
   "file_extension": ".py",
   "mimetype": "text/x-python",
   "name": "python",
   "nbconvert_exporter": "python",
   "pygments_lexer": "ipython2",
   "version": "2.7.6"
  }
 },
 "nbformat": 4,
 "nbformat_minor": 0
}