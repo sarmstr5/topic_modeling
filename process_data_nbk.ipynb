{
 "cells": [
  {
   "cell_type": "code",
   "execution_count": 1,
   "metadata": {
    "collapsed": true
   },
   "outputs": [],
   "source": [
    "import numpy as np\n",
    "import pandas as pd\n",
    "import glob, os, sys\n",
    "from scipy.sparse import coo_matrix, csc_matrix, csr_matrix"
   ]
  },
  {
   "cell_type": "code",
   "execution_count": 2,
   "metadata": {},
   "outputs": [],
   "source": [
    "# the docword.*.txt files are formatted as:\n",
    "# D\n",
    "# W\n",
    "# NNZ\n",
    "# docID wordID count\n",
    "os.chdir(\"CS674/HW4_topic_modeling/data\")"
   ]
  },
  {
   "cell_type": "code",
   "execution_count": 2,
   "metadata": {},
   "outputs": [
    {
     "ename": "NameError",
     "evalue": "name 'glob' is not defined",
     "traceback": [
      "\u001b[0;31m---------------------------------------------------------------------------\u001b[0m",
      "\u001b[0;31mNameError\u001b[0m                                 Traceback (most recent call last)",
      "\u001b[0;32m<ipython-input-2-16bd5105e879>\u001b[0m in \u001b[0;36m<module>\u001b[0;34m()\u001b[0m\n\u001b[0;32m----> 1\u001b[0;31m \u001b[0mglob\u001b[0m\u001b[1;33m.\u001b[0m\u001b[0mglob\u001b[0m\u001b[1;33m(\u001b[0m\u001b[1;34m'*'\u001b[0m\u001b[1;33m)\u001b[0m\u001b[1;33m\u001b[0m\u001b[0m\n\u001b[0m",
      "\u001b[0;31mNameError\u001b[0m: name 'glob' is not defined"
     ],
     "output_type": "error"
    }
   ],
   "source": [
    "glob.glob('*')"
   ]
  },
  {
   "cell_type": "code",
   "execution_count": 4,
   "metadata": {},
   "outputs": [],
   "source": [
    "def store_files_to_disk(verbose: object = True) -> object:\n",
    "    filenames = glob.glob(\"docword.*.txt\")\n",
    "    for fn in filenames:\n",
    "        arr = np.loadtxt(fn, dtype=int,skiprows=3)\n",
    "        coo = coo_matrix((arr[:,2], (arr[:,0], arr[:,1])))\n",
    "        csc = csc_matrix(coo)\n",
    "        csr = csr_matrix(coo)\n",
    "        np.savez(fn+'_csc', data=csc.data, indices=csc.indices, indptr=csc.indptr, shape=csc.shape)\n",
    "        np.savez(fn+'_csr', data=csr.data, indices=csr.indices, indptr=csr.indptr, shape=csr.shape)"
   ]
  },
  {
   "cell_type": "code",
   "execution_count": 4,
   "metadata": {},
   "outputs": [],
   "source": [
    "def create_pubmed_coo(verbose=True):\n",
    "    i = 0\n",
    "    data, rows, cols = [], [], []\n",
    "    # got from the readme file, can also be gotten from the first two lines of the file\n",
    "    M = 8200000+1\n",
    "    N = 141043+1\n",
    "    number_of_elements = 0\n",
    "    coo = coo_matrix((M,N), dtype=int)\n",
    "    file = \"docword.pubmed.txt\"\n",
    "    # file = \"trunc_pubmed.txt\"\n",
    "    with open(file, 'r') as csv:\n",
    "        param_num = 0\n",
    "        for row in csv:\n",
    "            # print(i)\n",
    "            if i<2:\n",
    "                print(row)\n",
    "            elif i==2:\n",
    "                print(row)\n",
    "                number_of_elements = int(row)\n",
    "            elif i>2:\n",
    "                # docID wordID count\n",
    "                row_list = row.strip().split()\n",
    "                rows.append(int(row_list[0]))\n",
    "                cols.append(int(row_list[1]))\n",
    "                data.append(int(row_list[2]))\n",
    "                \n",
    "                # keep memory use low\n",
    "                if i % 10000000 == 0:\n",
    "                    try:\n",
    "                        print('i is : {}'.format(i))\n",
    "                        print('lengths:\\t\\tcoo: {}\\trows: {}\\tcols: {}\\tdata: {}'.format(coo.shape, len(rows), len(cols), len(data)))\n",
    "                        print('Memory print 1:\\tcoo: {}\\trows: {}\\tcols: {}\\tdata: {}'.format(sys.getsizeof(coo), sys.getsizeof(rows), sys.getsizeof(cols), sys.getsizeof(data)))\n",
    "                        coo = coo + coo_matrix((data, (rows, cols)), shape=(M,N), dtype=int)\n",
    "                        data, rows, cols = [], [], []\n",
    "                        print('Memory print 2:\\tcoo: {}\\trows: {}\\tcols: {}\\tdata: {}'.format(sys.getsizeof(coo), sys.getsizeof(rows), sys.getsizeof(cols), sys.getsizeof(data)))\n",
    "                        print('\\n------------------')\n",
    "                    except ValueError:\n",
    "                        print('raised an error!!!\\nvalues:\\tcoo: {}\\trows: {}\\tcols: {}\\tdata: {}'.format(coo.shape, max(rows), max(cols), max(data)))\n",
    "                        raise\n",
    "            i += 1\n",
    "            \n",
    "        coo = coo + coo_matrix((data, (rows, cols)), shape=(M,N), dtype=int)\n",
    "        print(coo)\n",
    "        print(number_of_elements)\n",
    "    return coo"
   ]
  },
  {
   "cell_type": "code",
   "execution_count": 1,
   "metadata": {},
   "outputs": [],
   "source": [
    "# store_files_to_disk()\n",
    "# coo = create_pubmed_coo()\n",
    "# coo"
   ]
  },
  {
   "cell_type": "code",
   "execution_count": 7,
   "metadata": {},
   "outputs": [
    {
     "data": {
      "text/plain": [
       "<8200001x141044 sparse matrix of type '<class 'numpy.int32'>'\n\twith 483450157 stored elements in Compressed Sparse Column format>"
      ]
     },
     "execution_count": 6,
     "metadata": {},
     "output_type": "execute_result"
    }
   ],
   "source": [
    "fn = \"docword.pubmed.txt\"\n",
    "csc = csc_matrix(coo)\n",
    "np.savez(fn+'_csc', data=csc.data, indices=csc.indices, indptr=csc.indptr, shape=csc.shape)\n",
    "csc"
   ]
  },
  {
   "cell_type": "code",
   "execution_count": 8,
   "metadata": {},
   "outputs": [
    {
     "data": {
      "text/plain": [
       "<8200001x141044 sparse matrix of type '<class 'numpy.int32'>'\n\twith 483450157 stored elements in Compressed Sparse Row format>"
      ]
     },
     "execution_count": 8,
     "metadata": {},
     "output_type": "execute_result"
    }
   ],
   "source": [
    "fn = \"docword.pubmed.txt\"\n",
    "csr = csr_matrix(coo)\n",
    "np.savez(fn+'_csr', data=csr.data, indices=csr.indices, indptr=csr.indptr, shape=csr.shape)\n",
    "csr"
   ]
  },
  {
   "cell_type": "code",
   "execution_count": null,
   "metadata": {},
   "outputs": [],
   "source": [
    "fns = glob.glob('xa*')\n",
    "# arr = np.loadtxt(fn, dtype=int,skiprows=3)\n",
    "# coo = coo_matrix((arr[:,2], (arr[:,0], arr[:,1])))"
   ]
  },
  {
   "cell_type": "code",
   "execution_count": null,
   "metadata": {},
   "outputs": [],
   "source": [
    "import pickle\n",
    "with open(' pubmed_rows', 'wb'):\n",
    "    pickle.dump(rows)\n",
    "with open(' pubmed_cols', 'wb'):\n",
    "    pickle.dump(rows)\n",
    "with open(' pubmed_data', 'wb'):\n",
    "    pickle.dump(rows)"
   ]
  }
 ],
 "metadata": {
  "kernelspec": {
   "display_name": "Python 2",
   "language": "python",
   "name": "python2"
  },
  "language_info": {
   "codemirror_mode": {
    "name": "ipython",
    "version": 2.0
   },
   "file_extension": ".py",
   "mimetype": "text/x-python",
   "name": "python",
   "nbconvert_exporter": "python",
   "pygments_lexer": "ipython2",
   "version": "2.7.6"
  }
 },
 "nbformat": 4,
 "nbformat_minor": 0
}