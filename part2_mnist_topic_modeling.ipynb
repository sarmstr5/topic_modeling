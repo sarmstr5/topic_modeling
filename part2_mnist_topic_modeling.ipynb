{
 "cells": [
  {
   "cell_type": "code",
   "execution_count": null,
   "metadata": {
    "collapsed": true
   },
   "outputs": [],
   "source": [
    "# Image data. Use the MNIST handwritten digits on this website: http://www.cs.nyu.edu/~roweis/data.html. \n",
    "# Treat each image as a document, and each pixel as a word. Identify the top “topics” and plot them."
   ]
  },
  {
   "cell_type": "code",
   "execution_count": 29,
   "metadata": {},
   "outputs": [],
   "source": [
    "import numpy as np\n",
    "import pandas as pd\n",
    "import scipy.io as sio\n",
    "import os, sys, glob, re"
   ]
  },
  {
   "cell_type": "code",
   "execution_count": 8,
   "metadata": {},
   "outputs": [
    {
     "data": {
      "text/plain": [
       "['docword.enron.txt',\n 'docword.enron.txt_csc.npz',\n 'docword.enron.txt_csr.npz',\n 'docword.kos.txt',\n 'docword.kos.txt_csc.npz',\n 'docword.kos.txt_csr.npz',\n 'docword.nips.txt',\n 'docword.nips.txt_csc.npz',\n 'docword.nips.txt_csr.npz',\n 'docword.nytimes.txt',\n 'docword.nytimes.txt_csc.npz',\n 'docword.nytimes.txt_csr.npz',\n 'docword.pubmed.txt_csc.npz',\n 'docword.pubmed.txt_csr.npz',\n 'docword.pubmed.zip',\n 'mnist',\n 'mnist_all.mat',\n 'processed',\n 'raw',\n 'readme.txt',\n 'topic_output',\n 'trunc_pubmed.txt',\n 'vocab.enron.txt',\n 'vocab.kos.txt',\n 'vocab.nips.txt',\n 'vocab.nytimes.txt',\n 'vocab.pubmed.txt']"
      ]
     },
     "execution_count": 8,
     "metadata": {},
     "output_type": "execute_result"
    }
   ],
   "source": [
    "glob.glob(\"*\")\n",
    "os.chdir(\"CS674/HW4_topic_modeling/data\")\n",
    "glob.glob(\"*\")"
   ]
  },
  {
   "cell_type": "code",
   "execution_count": 30,
   "metadata": {},
   "outputs": [],
   "source": [
    "fn = 'mnist/mnist_all.mat'\n",
    "mnist_dataset = sio.loadmat(fn)\n",
    "# mnist_dataset\n",
    "# df = pd.DataFrame(mnist_dataset)\n",
    "# mnist_stuff = mnist_dataset.items()\n",
    "# type(mnist_dataset)\n",
    "# mnist_ar = np.array(mnist_dataset.items())\n",
    "# type(mnist_ar)\n",
    "# df = pd.DataFrame(mnist_ar)\n",
    "# df"
   ]
  },
  {
   "cell_type": "code",
   "execution_count": 53,
   "metadata": {},
   "outputs": [],
   "source": [
    "def convert_mat_to_npz(mat_file):\n",
    "    train_reg = re.compile('train*')\n",
    "    test_reg = re.compile('test*')\n",
    "    fn = 'mnist/mnist_'\n",
    "\n",
    "    for key, value in mnist_dataset.items():\n",
    "        # print(key)\n",
    "        # if train_reg.match(key) or test_reg.match(key):\n",
    "        arr = np.array(value)\n",
    "        np.save(fn+key, arr)\n",
    "        # else:\n",
    "            #     continue"
   ]
  },
  {
   "cell_type": "code",
   "execution_count": 46,
   "metadata": {},
   "outputs": [
    {
     "data": {
      "text/plain": [
       "['test5',\n 'test1',\n 'test3',\n 'test0',\n 'test6',\n 'test4',\n 'test2',\n 'test8',\n 'test9',\n 'test7']"
      ]
     },
     "execution_count": 46,
     "metadata": {},
     "output_type": "execute_result"
    }
   ],
   "source": [
    "test_key_list"
   ]
  },
  {
   "cell_type": "code",
   "execution_count": 44,
   "metadata": {},
   "outputs": [
    {
     "data": {
      "text/plain": [
       "(5842, 784)"
      ]
     },
     "execution_count": 44,
     "metadata": {},
     "output_type": "execute_result"
    }
   ],
   "source": [
    "# def mat_to_npz(keys, values):\n",
    "for key, value in zip(keys, values):\n",
    "    print(key)\n",
    "    print(value)\n",
    "    # fn = 'mnist/'+key\n",
    "    # np.array(value)"
   ]
  },
  {
   "cell_type": "code",
   "execution_count": 56,
   "metadata": {},
   "outputs": [],
   "source": [
    "train0 = np.load(fn+'train0.npy')"
   ]
  },
  {
   "cell_type": "code",
   "execution_count": 65,
   "metadata": {},
   "outputs": [
    {
     "data": {
      "text/plain": [
       "(-0.5, 27.5, 27.5, -0.5)"
      ]
     },
     "execution_count": 65,
     "metadata": {},
     "output_type": "execute_result"
    },
    {
     "data": {
      "image/png": "[encoded data removed]",
      "text/plain": [
       "<matplotlib.figure.Figure at 0x273548e3978>"
      ]
     },
     "metadata": {},
     "output_type": "display_data"
    }
   ],
   "source": [
    "%matplotlib inline\n",
    "import matplotlib.pyplot as plt\n",
    "imgplot = plt.imshow(np.reshape(train0[1], (28,28)), cmap=plt.cm.gray)\n",
    "plt.axis('off')"
   ]
  },
  {
   "cell_type": "code",
   "execution_count": 69,
   "metadata": {},
   "outputs": [
    {
     "data": {
      "text/plain": [
       "['mnist\\\\mnist_train0.npy',\n 'mnist\\\\mnist_train1.npy',\n 'mnist\\\\mnist_train2.npy',\n 'mnist\\\\mnist_train3.npy',\n 'mnist\\\\mnist_train4.npy',\n 'mnist\\\\mnist_train5.npy',\n 'mnist\\\\mnist_train6.npy',\n 'mnist\\\\mnist_train7.npy',\n 'mnist\\\\mnist_train8.npy',\n 'mnist\\\\mnist_train9.npy']"
      ]
     },
     "execution_count": 69,
     "metadata": {},
     "output_type": "execute_result"
    }
   ],
   "source": [
    "fns = glob.glob('mnist/mnist_train*')\n",
    "\n"
   ]
  },
  {
   "cell_type": "code",
   "execution_count": null,
   "metadata": {},
   "outputs": [],
   "source": [
    ""
   ]
  }
 ],
 "metadata": {
  "kernelspec": {
   "display_name": "Python 2",
   "language": "python",
   "name": "python2"
  },
  "language_info": {
   "codemirror_mode": {
    "name": "ipython",
    "version": 2.0
   },
   "file_extension": ".py",
   "mimetype": "text/x-python",
   "name": "python",
   "nbconvert_exporter": "python",
   "pygments_lexer": "ipython2",
   "version": "2.7.6"
  }
 },
 "nbformat": 4,
 "nbformat_minor": 0
}